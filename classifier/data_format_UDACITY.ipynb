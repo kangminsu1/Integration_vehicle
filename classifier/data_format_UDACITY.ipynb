{
 "cells": [
  {
   "cell_type": "markdown",
   "metadata": {},
   "source": [
    "# Data Formatting"
   ]
  },
  {
   "cell_type": "code",
   "execution_count": 1,
   "metadata": {
    "collapsed": false
   },
   "outputs": [
    {
     "name": "stderr",
     "output_type": "stream",
     "text": [
      "/home/camilog/anaconda3/envs/tf13/lib/python3.5/site-packages/h5py/__init__.py:34: FutureWarning: Conversion of the second argument of issubdtype from `float` to `np.floating` is deprecated. In future, it will be treated as `np.float64 == np.dtype(float).type`.\n",
      "  from ._conv import register_converters as _register_converters\n"
     ]
    }
   ],
   "source": [
    "import tensorflow as tf\n",
    "import yaml\n",
    "import os\n",
    "from object_detection.utils import dataset_util\n",
    "import glob\n",
    "import numpy as np\n",
    "from PIL import Image"
   ]
  },
  {
   "cell_type": "code",
   "execution_count": 2,
   "metadata": {
    "collapsed": true
   },
   "outputs": [],
   "source": [
    "DATA_PATH = '/home/camilog/Downloads/dataset-sdcnd-capstone/data/'"
   ]
  },
  {
   "cell_type": "markdown",
   "metadata": {},
   "source": [
    "## Categories in dataset"
   ]
  },
  {
   "cell_type": "code",
   "execution_count": 3,
   "metadata": {
    "collapsed": true
   },
   "outputs": [],
   "source": [
    "LABEL_DICT =  {\n",
    "    \"Green\" : 1,\n",
    "    \"Red\" : 2,\n",
    "    \"Yellow\" : 3,\n",
    "    \"no_light\" : 4,\n",
    "    }"
   ]
  },
  {
   "cell_type": "markdown",
   "metadata": {},
   "source": [
    "## Output File as TFRecord"
   ]
  },
  {
   "cell_type": "code",
   "execution_count": 4,
   "metadata": {
    "collapsed": true
   },
   "outputs": [],
   "source": [
    "OUTPUT_PATH = DATA_PATH + 'train_data.record'"
   ]
  },
  {
   "cell_type": "code",
   "execution_count": 5,
   "metadata": {
    "collapsed": false
   },
   "outputs": [
    {
     "name": "stdout",
     "output_type": "stream",
     "text": [
      "Samples in yaml 159: 159\n",
      "Samples in yaml 277: 277\n",
      "Loading  436 examples\n"
     ]
    }
   ],
   "source": [
    "YAML_FILES = []\n",
    "YAML_FILES.append(DATA_PATH + 'real_training_data/real_data_annotations.yaml')\n",
    "YAML_FILES.append(DATA_PATH + 'sim_training_data/sim_data_annotations.yaml')\n",
    "\n",
    "examples = []\n",
    "for i, file_name in enumerate(YAML_FILES):\n",
    "    temp = yaml.load(open(file_name, 'rb').read())\n",
    "    for i in range(len(temp)):\n",
    "        temp[i]['path'] = os.path.abspath(os.path.join(os.path.dirname(file_name), temp[i]['filename']))\n",
    "    \n",
    "    examples += temp\n",
    "    print('Samples in yaml %d: %d' % (i+1, len(temp)))\n",
    "\n",
    "len_examples = len(examples)\n",
    "print(\"Loading \", len_examples, \"examples\")"
   ]
  },
  {
   "cell_type": "markdown",
   "metadata": {},
   "source": [
    "### Adding real 'no_light' examples manually"
   ]
  },
  {
   "cell_type": "code",
   "execution_count": 6,
   "metadata": {
    "collapsed": false
   },
   "outputs": [],
   "source": [
    "PATH_TO_NOLIGHT_SAMPLES = DATA_PATH + 'real_training_data/nolight/'\n",
    "\n",
    "nolight_samples = []\n",
    "for file in glob.glob(PATH_TO_NOLIGHT_SAMPLES + \"*.jpg\"):\n",
    "    temp = {'annotations': [],\n",
    "             'class': 'image',\n",
    "             'path': PATH_TO_NOLIGHT_SAMPLES + file.split('/')[-1]}\n",
    "    nolight_samples.append(temp)\n",
    "    \n",
    "examples += nolight_samples"
   ]
  },
  {
   "cell_type": "code",
   "execution_count": 7,
   "metadata": {
    "collapsed": false
   },
   "outputs": [
    {
     "name": "stdout",
     "output_type": "stream",
     "text": [
      "Number of annotations per category:\n",
      "{'no_light': 105, 'Red': 504, 'Green': 178, 'Yellow': 147}\n"
     ]
    }
   ],
   "source": [
    "labels = ['no_light']\n",
    "counter = {'no_light': 0}\n",
    "for sample in examples:\n",
    "    annotations = sample['annotations']\n",
    "    if len(annotations) == 0:\n",
    "        counter['no_light'] += 1\n",
    "    else:\n",
    "        for annotation in annotations:\n",
    "            if annotation['class'] not in labels:\n",
    "                labels.append(annotation['class'])\n",
    "                counter[annotation['class']] = 1\n",
    "            else:\n",
    "                counter[annotation['class']] += 1\n",
    "            \n",
    "print('Number of annotations per category:')\n",
    "print(counter)"
   ]
  },
  {
   "cell_type": "markdown",
   "metadata": {},
   "source": [
    "## Formatting Data: "
   ]
  },
  {
   "cell_type": "code",
   "execution_count": 8,
   "metadata": {
    "collapsed": true
   },
   "outputs": [],
   "source": [
    "def create_tf_example(example):\n",
    "    \n",
    "    jpgfile = Image.open(example['path'])\n",
    "    width, height = jpgfile.size\n",
    "\n",
    "    filename = example['path'] # Filename of the image. \n",
    "    filename = filename.encode()\n",
    "\n",
    "    with tf.gfile.GFile(example['path'], 'rb') as fid:\n",
    "        encoded_image = fid.read()\n",
    "\n",
    "    image_format = 'jpg'.encode() \n",
    "\n",
    "    xmins = [] # List of normalized left x coordinates in bounding box (1 per box)\n",
    "    xmaxs = [] # List of normalized right x coordinates in bounding box (1 per box)\n",
    "    ymins = [] # List of normalized top y coordinates in bounding box (1 per box)\n",
    "    ymaxs = [] # List of normalized bottom y coordinates in bounding box (1 per box)\n",
    "    classes_text = [] # List of string class name of bounding box (1 per box)\n",
    "    classes = [] # List of integer class id of bounding box (1 per box)\n",
    "\n",
    "    for box in example['annotations']:\n",
    "        xmins.append(float(box['xmin'] / width))\n",
    "        xmaxs.append(float((box['xmin'] + box['x_width']) / width))\n",
    "        ymins.append(float(box['ymin'] / height))\n",
    "        ymaxs.append(float((box['ymin'] + box['y_height']) / height))\n",
    "        classes_text.append(box['class'].encode())\n",
    "        classes.append(int(LABEL_DICT[box['class']]))\n",
    "\n",
    "\n",
    "    tf_example = tf.train.Example(features=tf.train.Features(feature={\n",
    "        'image/height': dataset_util.int64_feature(height),\n",
    "        'image/width': dataset_util.int64_feature(width),\n",
    "        'image/filename': dataset_util.bytes_feature(filename),\n",
    "        'image/source_id': dataset_util.bytes_feature(filename),\n",
    "        'image/encoded': dataset_util.bytes_feature(encoded_image),\n",
    "        'image/format': dataset_util.bytes_feature(image_format),\n",
    "        'image/object/bbox/xmin': dataset_util.float_list_feature(xmins),\n",
    "        'image/object/bbox/xmax': dataset_util.float_list_feature(xmaxs),\n",
    "        'image/object/bbox/ymin': dataset_util.float_list_feature(ymins),\n",
    "        'image/object/bbox/ymax': dataset_util.float_list_feature(ymaxs),\n",
    "        'image/object/class/text': dataset_util.bytes_list_feature(classes_text),\n",
    "        'image/object/class/label': dataset_util.int64_list_feature(classes),\n",
    "    }))\n",
    "\n",
    "    return tf_example\n"
   ]
  },
  {
   "cell_type": "code",
   "execution_count": 9,
   "metadata": {
    "collapsed": false
   },
   "outputs": [
    {
     "name": "stdout",
     "output_type": "stream",
     "text": [
      "Percent done 0.0\n",
      "Percent done 22.93577981651376\n",
      "Percent done 45.87155963302752\n",
      "Percent done 68.80733944954129\n",
      "Percent done 91.74311926605505\n",
      "Done!\n"
     ]
    }
   ],
   "source": [
    "writer = tf.python_io.TFRecordWriter(OUTPUT_PATH)\n",
    "\n",
    "counter = 0\n",
    "for example in examples:\n",
    "    tf_example = create_tf_example(example)\n",
    "    writer.write(tf_example.SerializeToString())\n",
    "\n",
    "    if counter % 100 == 0:\n",
    "        print(\"Percent done\", (counter/len_examples)*100)\n",
    "    counter += 1\n",
    "\n",
    "writer.close()\n",
    "print(\"Done!\")"
   ]
  },
  {
   "cell_type": "code",
   "execution_count": null,
   "metadata": {
    "collapsed": true
   },
   "outputs": [],
   "source": []
  }
 ],
 "metadata": {
  "kernelspec": {
   "display_name": "Python 3",
   "language": "python",
   "name": "python3"
  },
  "language_info": {
   "codemirror_mode": {
    "name": "ipython",
    "version": 3
   },
   "file_extension": ".py",
   "mimetype": "text/x-python",
   "name": "python",
   "nbconvert_exporter": "python",
   "pygments_lexer": "ipython3",
   "version": "3.5.3"
  }
 },
 "nbformat": 4,
 "nbformat_minor": 2
}
