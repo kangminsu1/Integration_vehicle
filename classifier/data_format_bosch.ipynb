{
 "cells": [
  {
   "cell_type": "markdown",
   "metadata": {},
   "source": [
    "# Bosch Dataset - Data Formatting"
   ]
  },
  {
   "cell_type": "code",
   "execution_count": 1,
   "metadata": {
    "collapsed": true
   },
   "outputs": [],
   "source": [
    "import tensorflow as tf\n",
    "import yaml\n",
    "import os\n",
    "from object_detection.utils import dataset_util"
   ]
  },
  {
   "cell_type": "markdown",
   "metadata": {},
   "source": [
    "## Categories in dataset"
   ]
  },
  {
   "cell_type": "code",
   "execution_count": 2,
   "metadata": {
    "collapsed": true
   },
   "outputs": [],
   "source": [
    "LABEL_DICT =  {\n",
    "    \"Green\" : 1,\n",
    "    \"Red\" : 2,\n",
    "    \"GreenLeft\" : 3,\n",
    "    \"GreenRight\" : 4,\n",
    "    \"RedLeft\" : 5,\n",
    "    \"RedRight\" : 6,\n",
    "    \"Yellow\" : 7,\n",
    "    \"off\" : 8,\n",
    "    \"RedStraight\" : 9,\n",
    "    \"GreenStraight\" : 10,\n",
    "    \"GreenStraightLeft\" : 11,\n",
    "    \"GreenStraightRight\" : 12,\n",
    "    \"RedStraightLeft\" : 13,\n",
    "    \"RedStraightRight\" : 14\n",
    "    }"
   ]
  },
  {
   "cell_type": "markdown",
   "metadata": {},
   "source": [
    "## Output File as TFRecord"
   ]
  },
  {
   "cell_type": "code",
   "execution_count": null,
   "metadata": {
    "collapsed": true
   },
   "outputs": [],
   "source": [
    "OUTPUT_PATH = 'bosch_train.record'"
   ]
  },
  {
   "cell_type": "markdown",
   "metadata": {},
   "source": [
    "## Formatting Data: \n",
    "Check [here](https://github.com/tensorflow/models/blob/master/research/object_detection/g3doc/using_your_own_dataset.md)"
   ]
  },
  {
   "cell_type": "code",
   "execution_count": 3,
   "metadata": {
    "collapsed": true
   },
   "outputs": [],
   "source": [
    "def create_tf_example(example):\n",
    "    \n",
    "    # Bosch\n",
    "    height = 720 # Image height\n",
    "    width = 1280 # Image width\n",
    "\n",
    "    filename = example['path'] # Filename of the image. \n",
    "    filename = filename.encode()\n",
    "\n",
    "    with tf.gfile.GFile(example['path'], 'rb') as fid:\n",
    "        encoded_image = fid.read()\n",
    "\n",
    "    image_format = 'png'.encode() \n",
    "\n",
    "    xmins = [] # List of normalized left x coordinates in bounding box (1 per box)\n",
    "    xmaxs = [] # List of normalized right x coordinates in bounding box (1 per box)\n",
    "    ymins = [] # List of normalized top y coordinates in bounding box (1 per box)\n",
    "    ymaxs = [] # List of normalized bottom y coordinates in bounding box (1 per box)\n",
    "    classes_text = [] # List of string class name of bounding box (1 per box)\n",
    "    classes = [] # List of integer class id of bounding box (1 per box)\n",
    "\n",
    "    for box in example['boxes']:\n",
    "        #if box['occluded'] is False:\n",
    "        xmins.append(float(box['x_min'] / width))\n",
    "        xmaxs.append(float(box['x_max'] / width))\n",
    "        ymins.append(float(box['y_min'] / height))\n",
    "        ymaxs.append(float(box['y_max'] / height))\n",
    "        classes_text.append(box['label'].encode())\n",
    "        classes.append(int(LABEL_DICT[box['label']]))\n",
    "\n",
    "\n",
    "    tf_example = tf.train.Example(features=tf.train.Features(feature={\n",
    "        'image/height': dataset_util.int64_feature(height),\n",
    "        'image/width': dataset_util.int64_feature(width),\n",
    "        'image/filename': dataset_util.bytes_feature(filename),\n",
    "        'image/source_id': dataset_util.bytes_feature(filename),\n",
    "        'image/encoded': dataset_util.bytes_feature(encoded_image),\n",
    "        'image/format': dataset_util.bytes_feature(image_format),\n",
    "        'image/object/bbox/xmin': dataset_util.float_list_feature(xmins),\n",
    "        'image/object/bbox/xmax': dataset_util.float_list_feature(xmaxs),\n",
    "        'image/object/bbox/ymin': dataset_util.float_list_feature(ymins),\n",
    "        'image/object/bbox/ymax': dataset_util.float_list_feature(ymaxs),\n",
    "        'image/object/class/text': dataset_util.bytes_list_feature(classes_text),\n",
    "        'image/object/class/label': dataset_util.int64_list_feature(classes),\n",
    "    }))\n",
    "\n",
    "    return tf_example\n"
   ]
  },
  {
   "cell_type": "code",
   "execution_count": null,
   "metadata": {
    "collapsed": false
   },
   "outputs": [],
   "source": [
    "writer = tf.python_io.TFRecordWriter(OUTPUT_PATH)\n",
    "\n",
    "# BOSCH\n",
    "INPUT_YAML = \"/home/camilog/Downloads/Bosch/train.yaml\"\n",
    "examples = yaml.load(open(INPUT_YAML, 'rb').read())\n",
    "\n",
    "#examples = examples[:10]  # for testing\n",
    "len_examples = len(examples)\n",
    "print(\"Loaded \", len(examples), \"examples\")\n",
    "\n",
    "for i in range(len(examples)):\n",
    "    examples[i]['path'] = os.path.abspath(os.path.join(os.path.dirname(INPUT_YAML), examples[i]['path']))\n",
    "    \n",
    "counter = 0\n",
    "for example in examples:\n",
    "    tf_example = create_tf_example(example)\n",
    "    writer.write(tf_example.SerializeToString())\n",
    "\n",
    "    if counter % 100 == 0:\n",
    "        print(\"Percent done\", (counter/len_examples)*100)\n",
    "    counter += 1\n",
    "\n",
    "writer.close()\n",
    "print(\"Done!\")"
   ]
  },
  {
   "cell_type": "markdown",
   "metadata": {},
   "source": [
    "## Formatting Testing Data\n",
    "Path is wrong in the downloaded test.yaml. Need to adjust the code."
   ]
  },
  {
   "cell_type": "code",
   "execution_count": 19,
   "metadata": {
    "collapsed": true
   },
   "outputs": [],
   "source": [
    "OUTPUT_PATH_TEST = 'bosch_test.record'"
   ]
  },
  {
   "cell_type": "code",
   "execution_count": 21,
   "metadata": {
    "collapsed": false
   },
   "outputs": [
    {
     "name": "stdout",
     "output_type": "stream",
     "text": [
      "Loaded  1000 examples\n",
      "Percent done 0.0\n",
      "Percent done 10.0\n",
      "Percent done 20.0\n",
      "Percent done 30.0\n",
      "Percent done 40.0\n",
      "Percent done 50.0\n",
      "Percent done 60.0\n",
      "Percent done 70.0\n",
      "Percent done 80.0\n",
      "Percent done 90.0\n",
      "Done!\n"
     ]
    }
   ],
   "source": [
    "writer = tf.python_io.TFRecordWriter(OUTPUT_PATH_TEST)\n",
    "\n",
    "# BOSCH\n",
    "INPUT_YAML = \"/home/camilog/Downloads/Bosch/test.yaml\"\n",
    "examples = yaml.load(open(INPUT_YAML, 'rb').read())\n",
    "\n",
    "examples = examples[:1000]  # Taking only a small portion for testing\n",
    "len_examples = len(examples)\n",
    "print(\"Loaded \", len(examples), \"examples\")\n",
    "\n",
    "for i in range(len(examples)):\n",
    "    examples[i]['path'] = os.path.dirname(INPUT_YAML) + '/rgb/test/' + examples[i]['path'].split('/')[-1]\n",
    "    \n",
    "counter = 0\n",
    "for example in examples:\n",
    "    tf_example = create_tf_example(example)\n",
    "    writer.write(tf_example.SerializeToString())\n",
    "\n",
    "    if counter % 100 == 0:\n",
    "        print(\"Percent done\", (counter/len_examples)*100)\n",
    "    counter += 1\n",
    "\n",
    "writer.close()\n",
    "print(\"Done!\")"
   ]
  },
  {
   "cell_type": "code",
   "execution_count": null,
   "metadata": {
    "collapsed": true
   },
   "outputs": [],
   "source": []
  }
 ],
 "metadata": {
  "kernelspec": {
   "display_name": "Python 3",
   "language": "python",
   "name": "python3"
  },
  "language_info": {
   "codemirror_mode": {
    "name": "ipython",
    "version": 3
   },
   "file_extension": ".py",
   "mimetype": "text/x-python",
   "name": "python",
   "nbconvert_exporter": "python",
   "pygments_lexer": "ipython3",
   "version": "3.5.3"
  }
 },
 "nbformat": 4,
 "nbformat_minor": 2
}
